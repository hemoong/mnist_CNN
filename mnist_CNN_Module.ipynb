{
  "cells": [
    {
      "cell_type": "markdown",
      "metadata": {
        "id": "view-in-github",
        "colab_type": "text"
      },
      "source": [
        "<a href=\"https://colab.research.google.com/github/hemoong/mnist_CNN/blob/main/mnist_CNN_Module.ipynb\" target=\"_parent\"><img src=\"https://colab.research.google.com/assets/colab-badge.svg\" alt=\"Open In Colab\"/></a>"
      ]
    },
    {
      "cell_type": "code",
      "execution_count": 20,
      "metadata": {
        "id": "SmLoBvyR5i70"
      },
      "outputs": [],
      "source": [
        "class network(nn.Module):  # 네트워크 모델 정의\n",
        "    def __init__(self, inDim, h1Dim, h2Dim, outDim):\n",
        "        super(network, self).__init__()\n",
        "        self.fc1 = nn.Linear(inDim, h1Dim)\n",
        "        self.fc2 = nn.Linear(h1Dim, h2Dim)\n",
        "        self.fc3 = nn.Linear(h2Dim, outDim)\n",
        "        self.sigmoid = nn.Sigmoid()\n",
        "\n",
        "    def forward(self, x):\n",
        "        x = x.view(-1, 28 * 28)\n",
        "        x = self.sigmoid(self.fc1(x))  # 히든 1층의 출력-\n",
        "        x = self.sigmoid(self.fc2(x))  # 출력층의 출력\n",
        "        x = self.fc3(x)\n",
        "        return x\n"
      ]
    },
    {
      "cell_type": "code",
      "source": [
        "def train():\n",
        "    for epoch in range(Epochs):\n",
        "        loss_sum = 0\n",
        "        #visualizing_kernel(epoch)\n",
        "        for data, target in trainLoader:\n",
        "            X, y = data.to(device), target.to(device)  # cross\n",
        "            optimizer.zero_grad()\n",
        "            prediction = model(X)  # 결과 출력\n",
        "            loss = criterion(prediction, y)  # cross 로스 계산\n",
        "            loss.backward()  # 로스 역전파\n",
        "            optimizer.step()  # 실질적 웨이트 수정\n",
        "            loss_sum += loss.item()\n",
        "\n",
        "        #draw(epoch)\n",
        "        if loss_sum / batch_count < 0.001:\n",
        "          print(\"epoch = %d   loss = %f\" % (epoch + 1, round(loss_sum / batch_count, 3)))\n",
        "          break\n",
        "        print(\"epoch = %d   loss = %f\" % (epoch + 1, round(loss_sum / batch_count, 3)))\n",
        "\n",
        "\n",
        "\n",
        "def test():\n",
        "    correct = 0\n",
        "\n",
        "    with torch.no_grad():\n",
        "        for data, target in testLoader:\n",
        "            data, target = data.to(device), target.to(device)\n",
        "            outputs = model(data)\n",
        "\n",
        "            _, predicted = torch.max(outputs, 1)  # 가장 큰 인덱스 위치를 리턴함  @ return value, index\n",
        "            correct += predicted.eq(target).sum()  # 정답과 일치한 경우 정답 카운트를 증가\n",
        "\n",
        "    data_num = len(test_data)  # 데이터 총 건수\n",
        "    print('{:.3f}\\n'.format(correct))\n"
      ],
      "metadata": {
        "id": "506KuqtQ2o4H"
      },
      "execution_count": 27,
      "outputs": []
    },
    {
      "cell_type": "code",
      "source": [
        "from matplotlib import figure\n",
        "import torch\n",
        "from torch import tensor\n",
        "from torchvision import datasets\n",
        "from torchvision.transforms import ToTensor\n",
        "import torch.nn as nn\n",
        "import torch.nn.functional as F\n",
        "import torch.optim as optim\n",
        "from torch.utils.data import Dataset\n",
        "\n",
        "device = 'cpu'\n",
        "if device == 'cuda':\n",
        "    torch.cuda.manual_seed_all(777)\n",
        "print(device + \" is available\")\n",
        "\n",
        "training_data = datasets.MNIST(\"data\", train=True, download=True, transform=ToTensor())\n",
        "test_data = datasets.MNIST(\"data\", train=False, download=True, transform=ToTensor())\n",
        "\n",
        "trainLoader = torch.utils.data.DataLoader(training_data, batch_size=100, shuffle=False, drop_last=False)\n",
        "testLoader = torch.utils.data.DataLoader(test_data, batch_size=100, shuffle=False, drop_last=False)"
      ],
      "metadata": {
        "id": "y5U-pv4i2Wof",
        "colab": {
          "base_uri": "https://localhost:8080/"
        },
        "outputId": "9a53a409-b40a-4181-fda6-551e2a7858f3"
      },
      "execution_count": 2,
      "outputs": [
        {
          "output_type": "stream",
          "name": "stdout",
          "text": [
            "cpu is available\n",
            "Downloading http://yann.lecun.com/exdb/mnist/train-images-idx3-ubyte.gz\n",
            "Failed to download (trying next):\n",
            "HTTP Error 403: Forbidden\n",
            "\n",
            "Downloading https://ossci-datasets.s3.amazonaws.com/mnist/train-images-idx3-ubyte.gz\n",
            "Downloading https://ossci-datasets.s3.amazonaws.com/mnist/train-images-idx3-ubyte.gz to data/MNIST/raw/train-images-idx3-ubyte.gz\n"
          ]
        },
        {
          "output_type": "stream",
          "name": "stderr",
          "text": [
            "100%|██████████| 9912422/9912422 [00:01<00:00, 5089791.97it/s]\n"
          ]
        },
        {
          "output_type": "stream",
          "name": "stdout",
          "text": [
            "Extracting data/MNIST/raw/train-images-idx3-ubyte.gz to data/MNIST/raw\n",
            "\n",
            "Downloading http://yann.lecun.com/exdb/mnist/train-labels-idx1-ubyte.gz\n",
            "Failed to download (trying next):\n",
            "HTTP Error 403: Forbidden\n",
            "\n",
            "Downloading https://ossci-datasets.s3.amazonaws.com/mnist/train-labels-idx1-ubyte.gz\n",
            "Downloading https://ossci-datasets.s3.amazonaws.com/mnist/train-labels-idx1-ubyte.gz to data/MNIST/raw/train-labels-idx1-ubyte.gz\n"
          ]
        },
        {
          "output_type": "stream",
          "name": "stderr",
          "text": [
            "100%|██████████| 28881/28881 [00:00<00:00, 135323.56it/s]\n"
          ]
        },
        {
          "output_type": "stream",
          "name": "stdout",
          "text": [
            "Extracting data/MNIST/raw/train-labels-idx1-ubyte.gz to data/MNIST/raw\n",
            "\n",
            "Downloading http://yann.lecun.com/exdb/mnist/t10k-images-idx3-ubyte.gz\n",
            "Failed to download (trying next):\n",
            "HTTP Error 403: Forbidden\n",
            "\n",
            "Downloading https://ossci-datasets.s3.amazonaws.com/mnist/t10k-images-idx3-ubyte.gz\n",
            "Downloading https://ossci-datasets.s3.amazonaws.com/mnist/t10k-images-idx3-ubyte.gz to data/MNIST/raw/t10k-images-idx3-ubyte.gz\n"
          ]
        },
        {
          "output_type": "stream",
          "name": "stderr",
          "text": [
            "100%|██████████| 1648877/1648877 [00:06<00:00, 246406.39it/s]\n"
          ]
        },
        {
          "output_type": "stream",
          "name": "stdout",
          "text": [
            "Extracting data/MNIST/raw/t10k-images-idx3-ubyte.gz to data/MNIST/raw\n",
            "\n",
            "Downloading http://yann.lecun.com/exdb/mnist/t10k-labels-idx1-ubyte.gz\n",
            "Failed to download (trying next):\n",
            "HTTP Error 403: Forbidden\n",
            "\n",
            "Downloading https://ossci-datasets.s3.amazonaws.com/mnist/t10k-labels-idx1-ubyte.gz\n",
            "Downloading https://ossci-datasets.s3.amazonaws.com/mnist/t10k-labels-idx1-ubyte.gz to data/MNIST/raw/t10k-labels-idx1-ubyte.gz\n"
          ]
        },
        {
          "output_type": "stream",
          "name": "stderr",
          "text": [
            "100%|██████████| 4542/4542 [00:00<00:00, 9655615.19it/s]"
          ]
        },
        {
          "output_type": "stream",
          "name": "stdout",
          "text": [
            "Extracting data/MNIST/raw/t10k-labels-idx1-ubyte.gz to data/MNIST/raw\n",
            "\n"
          ]
        },
        {
          "output_type": "stream",
          "name": "stderr",
          "text": [
            "\n"
          ]
        }
      ]
    },
    {
      "cell_type": "code",
      "source": [
        "model = network(inDim=28*28, h1Dim=500, h2Dim= 256, outDim=10).to(device)\n",
        "optimizer = optim.Adam(model.parameters(), lr=0.001)\n",
        "criterion = nn.CrossEntropyLoss()\n",
        "\n",
        "Epochs = 20\n",
        "batch_count = len(trainLoader)\n",
        "\n",
        "train()\n"
      ],
      "metadata": {
        "id": "ejgV2KT62q3E",
        "colab": {
          "base_uri": "https://localhost:8080/"
        },
        "outputId": "96826df9-c950-42e3-a9ee-ca9bf06e617f"
      },
      "execution_count": 28,
      "outputs": [
        {
          "output_type": "stream",
          "name": "stdout",
          "text": [
            "epoch = 1   loss = 0.536000\n",
            "epoch = 2   loss = 0.213000\n",
            "epoch = 3   loss = 0.155000\n",
            "epoch = 4   loss = 0.117000\n",
            "epoch = 5   loss = 0.090000\n",
            "epoch = 6   loss = 0.071000\n",
            "epoch = 7   loss = 0.056000\n",
            "epoch = 8   loss = 0.044000\n",
            "epoch = 9   loss = 0.034000\n",
            "epoch = 10   loss = 0.026000\n",
            "epoch = 11   loss = 0.020000\n",
            "epoch = 12   loss = 0.016000\n",
            "epoch = 13   loss = 0.012000\n",
            "epoch = 14   loss = 0.009000\n",
            "epoch = 15   loss = 0.008000\n",
            "epoch = 16   loss = 0.008000\n",
            "epoch = 17   loss = 0.006000\n",
            "epoch = 18   loss = 0.005000\n",
            "epoch = 19   loss = 0.005000\n",
            "epoch = 20   loss = 0.004000\n"
          ]
        }
      ]
    },
    {
      "cell_type": "code",
      "source": [
        "test()"
      ],
      "metadata": {
        "colab": {
          "base_uri": "https://localhost:8080/"
        },
        "id": "tGPDQsU_1Nxq",
        "outputId": "0268568d-8eb7-4964-bc13-6bef1dd9de77"
      },
      "execution_count": 29,
      "outputs": [
        {
          "output_type": "stream",
          "name": "stdout",
          "text": [
            "9798.000\n",
            "\n"
          ]
        }
      ]
    }
  ],
  "metadata": {
    "accelerator": "GPU",
    "colab": {
      "provenance": [],
      "include_colab_link": true
    },
    "kernelspec": {
      "display_name": "Python 3",
      "name": "python3"
    },
    "language_info": {
      "name": "python"
    }
  },
  "nbformat": 4,
  "nbformat_minor": 0
}